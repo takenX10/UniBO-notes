{
 "cells": [
  {
   "cell_type": "code",
   "execution_count": 1,
   "metadata": {},
   "outputs": [
    {
     "name": "stdout",
     "output_type": "stream",
     "text": [
      "Cloning into 'ml_intro'...\n",
      "remote: Enumerating objects: 233, done.\u001b[K\n",
      "remote: Counting objects: 100% (143/143), done.\u001b[K\n",
      "remote: Compressing objects: 100% (118/118), done.\u001b[K\n",
      "remote: Total 233 (delta 63), reused 101 (delta 24), pack-reused 90\u001b[K\n",
      "Receiving objects: 100% (233/233), 71.71 MiB | 6.57 MiB/s, done.\n",
      "Resolving deltas: 100% (91/91), done.\n"
     ]
    }
   ],
   "source": [
    "!git clone https://github.com/samuelemarro/ml_intro"
   ]
  },
  {
   "cell_type": "code",
   "execution_count": 11,
   "metadata": {},
   "outputs": [
    {
     "name": "stdout",
     "output_type": "stream",
     "text": [
      "       age         workclass  fnlwgt   education  education-num  \\\n",
      "0       39         State-gov   77516   Bachelors             13   \n",
      "1       50  Self-emp-not-inc   83311   Bachelors             13   \n",
      "2       38           Private  215646     HS-grad              9   \n",
      "3       53           Private  234721        11th              7   \n",
      "4       28           Private  338409   Bachelors             13   \n",
      "...    ...               ...     ...         ...            ...   \n",
      "32556   27           Private  257302  Assoc-acdm             12   \n",
      "32557   40           Private  154374     HS-grad              9   \n",
      "32558   58           Private  151910     HS-grad              9   \n",
      "32559   22           Private  201490     HS-grad              9   \n",
      "32560   52      Self-emp-inc  287927     HS-grad              9   \n",
      "\n",
      "           marital-status         occupation   relationship   race     sex  \\\n",
      "0           Never-married       Adm-clerical  Not-in-family  White    Male   \n",
      "1      Married-civ-spouse    Exec-managerial        Husband  White    Male   \n",
      "2                Divorced  Handlers-cleaners  Not-in-family  White    Male   \n",
      "3      Married-civ-spouse  Handlers-cleaners        Husband  Black    Male   \n",
      "4      Married-civ-spouse     Prof-specialty           Wife  Black  Female   \n",
      "...                   ...                ...            ...    ...     ...   \n",
      "32556  Married-civ-spouse       Tech-support           Wife  White  Female   \n",
      "32557  Married-civ-spouse  Machine-op-inspct        Husband  White    Male   \n",
      "32558             Widowed       Adm-clerical      Unmarried  White  Female   \n",
      "32559       Never-married       Adm-clerical      Own-child  White    Male   \n",
      "32560  Married-civ-spouse    Exec-managerial           Wife  White  Female   \n",
      "\n",
      "       capital-gain  capital-loss  hours-per-week native-country income  \n",
      "0              2174             0              40  United-States  <=50K  \n",
      "1                 0             0              13  United-States  <=50K  \n",
      "2                 0             0              40  United-States  <=50K  \n",
      "3                 0             0              40  United-States  <=50K  \n",
      "4                 0             0              40           Cuba  <=50K  \n",
      "...             ...           ...             ...            ...    ...  \n",
      "32556             0             0              38  United-States  <=50K  \n",
      "32557             0             0              40  United-States   >50K  \n",
      "32558             0             0              40  United-States  <=50K  \n",
      "32559             0             0              20  United-States  <=50K  \n",
      "32560         15024             0              40  United-States   >50K  \n",
      "\n",
      "[32561 rows x 15 columns]\n"
     ]
    }
   ],
   "source": [
    "import pandas as pd\n",
    "rich_dataset = pd.read_csv('./ml_intro/data/rich.csv', index_col=False)\n",
    "print(rich_dataset)"
   ]
  },
  {
   "cell_type": "code",
   "execution_count": 82,
   "metadata": {},
   "outputs": [
    {
     "name": "stdout",
     "output_type": "stream",
     "text": [
      "   age  workclass  fnlwgt  education  education-num  marital-status  \\\n",
      "0   39          5   77516         10             13               7   \n",
      "1   50          4   83311         10             13               6   \n",
      "2   38          7  215646          8              9               3   \n",
      "3   53          7  234721         14              7               6   \n",
      "4   28          7  338409         10             13               6   \n",
      "5   37          7  284582          4             14               6   \n",
      "6   49          7  160187          9              5               1   \n",
      "7   52          4  209642          8              9               6   \n",
      "8   31          7   45781          4             14               7   \n",
      "9   42          7  159449         10             13               6   \n",
      "\n",
      "   occupation  relationship  race  sex  capital-gain  capital-loss  \\\n",
      "0          14             5     3    2          2174             0   \n",
      "1           6             3     3    2             0             0   \n",
      "2          11             5     3    2             0             0   \n",
      "3          11             3     5    2             0             0   \n",
      "4           7             2     5    1             0             0   \n",
      "5           6             2     3    1             0             0   \n",
      "6          13             5     5    1             0             0   \n",
      "7           6             3     3    2             0             0   \n",
      "8           7             5     3    1         14084             0   \n",
      "9           6             3     3    2          5178             0   \n",
      "\n",
      "   hours-per-week  native-country  income  \n",
      "0              40              17       1  \n",
      "1              13              17       1  \n",
      "2              40              17       1  \n",
      "3              40              17       1  \n",
      "4              40              14       1  \n",
      "5              40              17       1  \n",
      "6              16              32       1  \n",
      "7              45              17       2  \n",
      "8              50              17       2  \n",
      "9              40              17       2  \n"
     ]
    }
   ],
   "source": [
    "from sklearn.neighbors import KNeighborsClassifier\n",
    "from sklearn.linear_model import Ridge\n",
    "from sklearn.model_selection import train_test_split\n",
    "# age,workclass,fnlwgt,education,education-num,marital-status,occupation,relationship,race,sex,capital-gain,capital-loss,hours-per-week,native-country,income\n",
    "text_feature_list = ['workclass', 'education', 'marital-status', 'occupation', 'relationship', 'race', 'sex', 'native-country']\n",
    "non_text_feature_list = ['fnlwgt', 'age', 'education-num', 'capital-gain', 'capital-loss', 'hours-per-week']\n",
    "for feature in text_feature_list:\n",
    "    for k, v in enumerate(list(set(rich_dataset[feature]))):\n",
    "        rich_dataset[feature] = rich_dataset[feature].replace(v, k + 1)\n",
    "\n",
    "todrop = ['income', 'fnlwgt', 'capital-gain']\n",
    "\n",
    "features = rich_dataset.drop(todrop, axis=1)\n",
    "topredict = rich_dataset['income'].replace('2','-1')\n",
    "print(rich_dataset.head(10))"
   ]
  },
  {
   "cell_type": "code",
   "execution_count": 81,
   "metadata": {},
   "outputs": [
    {
     "name": "stdout",
     "output_type": "stream",
     "text": [
      "0.8075742067553736\n",
      "age: 0.007093821381152499\n",
      "workclass: 0.0020538197280637665\n",
      "education: -0.003921746940903505\n",
      "education-num: 0.04831673588378908\n",
      "marital-status: 0.011900867006488928\n",
      "occupation: -0.007163318019697414\n",
      "relationship: -0.04052217211648096\n",
      "race: -0.01343824357507768\n",
      "sex: 0.1031076341030827\n",
      "capital-loss: 0.00010026824516642093\n",
      "hours-per-week: 0.004928621476929305\n",
      "native-country: -0.0012443240924031205\n"
     ]
    }
   ],
   "source": [
    "from sklearn.metrics import accuracy_score\n",
    "X_train, X_test, y_train, y_test = train_test_split(features, topredict, train_size=0.85, random_state=1)\n",
    "clf = Ridge()\n",
    "clf.fit(X_train, y_train)\n",
    "\n",
    "prediction = clf.predict(X_test)\n",
    "prediction = [2 if p > 1.5 else 1 for p in prediction]\n",
    "accuracy = accuracy_score(y_test, prediction)\n",
    "print(accuracy)\n",
    "for k, v in enumerate(X_train.columns):\n",
    "    print(f\"{v}: {clf.coef_[k]}\")"
   ]
  }
 ],
 "metadata": {
  "kernelspec": {
   "display_name": "Python 3.9.12 64-bit",
   "language": "python",
   "name": "python3"
  },
  "language_info": {
   "codemirror_mode": {
    "name": "ipython",
    "version": 3
   },
   "file_extension": ".py",
   "mimetype": "text/x-python",
   "name": "python",
   "nbconvert_exporter": "python",
   "pygments_lexer": "ipython3",
   "version": "3.9.12"
  },
  "orig_nbformat": 4,
  "vscode": {
   "interpreter": {
    "hash": "767d51c1340bd893661ea55ea3124f6de3c7a262a8b4abca0554b478b1e2ff90"
   }
  }
 },
 "nbformat": 4,
 "nbformat_minor": 2
}
